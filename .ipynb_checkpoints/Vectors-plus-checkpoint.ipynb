{
 "cells": [
  {
   "cell_type": "code",
   "execution_count": 1,
   "id": "f544606f",
   "metadata": {},
   "outputs": [],
   "source": [
    "import dotenv\n",
    "from dotenv import load_dotenv, find_dotenv\n",
    "_ = load_dotenv(find_dotenv()) # read local .env file"
   ]
  },
  {
   "cell_type": "code",
   "execution_count": 2,
   "id": "4b415568",
   "metadata": {},
   "outputs": [],
   "source": [
    "import os\n",
    "import numpy \n",
    "import pandas as pd"
   ]
  },
  {
   "cell_type": "code",
   "execution_count": 3,
   "id": "ed3c0e3d",
   "metadata": {},
   "outputs": [],
   "source": [
    "import torch"
   ]
  },
  {
   "cell_type": "code",
   "execution_count": 4,
   "id": "f65bec87",
   "metadata": {},
   "outputs": [],
   "source": [
    "from langchain.chains import RetrievalQA"
   ]
  },
  {
   "cell_type": "code",
   "execution_count": 5,
   "id": "225e3134",
   "metadata": {},
   "outputs": [],
   "source": [
    "from langchain.llms import Ollama\n",
    "from langchain.callbacks.manager import CallbackManager\n",
    "from langchain.callbacks.streaming_stdout import StreamingStdOutCallbackHandler"
   ]
  },
  {
   "cell_type": "code",
   "execution_count": 6,
   "id": "9b6708f8",
   "metadata": {},
   "outputs": [],
   "source": [
    "# to start ollama, type in a root terminal 'ollama serve'\n",
    "ollama = Ollama(base_url=\"http://localhost:11434\", model=\"mistral\")\n",
    "llm = Ollama(model=\"mistral\", temperature=0.5, verbose=True, \n",
    "             callback_manager = CallbackManager([StreamingStdOutCallbackHandler()]))"
   ]
  },
  {
   "cell_type": "markdown",
   "id": "d889fa7c",
   "metadata": {},
   "source": [
    "## Ingest the Data"
   ]
  },
  {
   "cell_type": "code",
   "execution_count": 9,
   "id": "19ad21cd",
   "metadata": {},
   "outputs": [],
   "source": [
    "# from langchain.document_loaders import WikipediaLoader\n",
    "from langchain_community.document_loaders import WikipediaLoader\n",
    "from langchain.text_splitter import TokenTextSplitter, CharacterTextSplitter, RecursiveCharacterTextSplitter\n",
    "import myloadlib\n",
    "from myloadlib import loadDir, loadFile, loadWiki, loadYoutube, readAPI"
   ]
  },
  {
   "cell_type": "code",
   "execution_count": 10,
   "id": "e03bc486-e997-43c1-b862-d124db5e17b9",
   "metadata": {},
   "outputs": [],
   "source": [
    "# Small file -- three documents\n",
    "small_dataset = []\n",
    "\n",
    "docs = myloadlib.loadWiki(\"Service (motor vehicle)\", \"en\", 3)\n",
    "small_dataset.extend(docs)"
   ]
  },
  {
   "cell_type": "code",
   "execution_count": 11,
   "id": "dc9c155f",
   "metadata": {},
   "outputs": [
    {
     "data": {
      "text/plain": [
       "3"
      ]
     },
     "execution_count": 11,
     "metadata": {},
     "output_type": "execute_result"
    }
   ],
   "source": [
    "len(small_dataset)"
   ]
  },
  {
   "cell_type": "code",
   "execution_count": 12,
   "id": "7c1aa795-7a18-41c3-9b33-a253b00810a4",
   "metadata": {},
   "outputs": [],
   "source": [
    "## medium file"
   ]
  },
  {
   "cell_type": "code",
   "execution_count": 13,
   "id": "3a85a816-3c09-481e-b16b-845c2fdcbea8",
   "metadata": {},
   "outputs": [],
   "source": [
    "medium_dataset=[]\n",
    "\n",
    "docs = myloadlib.loadFile(\"https://transportation.wv.gov/highways/training/TrainingDocuments/Crawfords_Auto_Repair_Guide.pdf\")"
   ]
  },
  {
   "cell_type": "code",
   "execution_count": 14,
   "id": "eccf1dc8-757f-410d-b0d1-c3c184ddfbf8",
   "metadata": {},
   "outputs": [
    {
     "data": {
      "text/plain": [
       "84"
      ]
     },
     "execution_count": 14,
     "metadata": {},
     "output_type": "execute_result"
    }
   ],
   "source": [
    "medium_dataset.extend(docs)\n",
    "len(medium_dataset)"
   ]
  },
  {
   "cell_type": "code",
   "execution_count": 15,
   "id": "d845ea08-d3ea-4f1f-af10-57352a0c9275",
   "metadata": {},
   "outputs": [],
   "source": [
    "## Large file"
   ]
  },
  {
   "cell_type": "code",
   "execution_count": 16,
   "id": "e27877d0-70ff-4727-8611-9258742ac461",
   "metadata": {},
   "outputs": [],
   "source": [
    "large_dataset=[]\n",
    "docs = myloadlib.loadFile(\"https://www.providenceschools.org/cms/lib/RI01900003/Centricity/Domain/723/Automotive%20training.pdf\")"
   ]
  },
  {
   "cell_type": "code",
   "execution_count": 17,
   "id": "aaafaac9-939f-4786-98d5-3e6ff08ab124",
   "metadata": {},
   "outputs": [
    {
     "data": {
      "text/plain": [
       "978"
      ]
     },
     "execution_count": 17,
     "metadata": {},
     "output_type": "execute_result"
    }
   ],
   "source": [
    "large_dataset.extend(docs)\n",
    "len(large_dataset)"
   ]
  },
  {
   "cell_type": "code",
   "execution_count": 18,
   "id": "8d409e42-c1a2-4a1a-a8c0-93b930b30d09",
   "metadata": {},
   "outputs": [],
   "source": [
    "docs = myloadlib.loadFile(\"https://www.missskirtich.com/uploads/2/3/3/7/23374820/how_to_change_your_car_oil.pdf\")\n",
    "large_dataset.extend(docs)"
   ]
  },
  {
   "cell_type": "code",
   "execution_count": 19,
   "id": "d88b8adb-27b1-44f3-8bb2-9f2015a1138e",
   "metadata": {},
   "outputs": [
    {
     "data": {
      "text/plain": [
       "982"
      ]
     },
     "execution_count": 19,
     "metadata": {},
     "output_type": "execute_result"
    }
   ],
   "source": [
    "len(large_dataset)"
   ]
  },
  {
   "cell_type": "code",
   "execution_count": 20,
   "id": "8a03804d-0d19-4a65-997d-19d6c5e74bdc",
   "metadata": {},
   "outputs": [],
   "source": [
    "docs = myloadlib.loadFile(\"https://techinfo.honda.com/rjanisis/pubs/OM/IT9393/IT9393O00108A.pdf\")\n",
    "large_dataset.extend(docs)"
   ]
  },
  {
   "cell_type": "code",
   "execution_count": 21,
   "id": "66356b87-ae9f-47ed-80f1-c777e71a7580",
   "metadata": {},
   "outputs": [
    {
     "data": {
      "text/plain": [
       "993"
      ]
     },
     "execution_count": 21,
     "metadata": {},
     "output_type": "execute_result"
    }
   ],
   "source": [
    "len(large_dataset)"
   ]
  },
  {
   "cell_type": "markdown",
   "id": "6bf8cb85",
   "metadata": {
    "tags": []
   },
   "source": [
    "## Split the Ingested Documents into Chunks"
   ]
  },
  {
   "cell_type": "code",
   "execution_count": 22,
   "id": "55e67009",
   "metadata": {},
   "outputs": [],
   "source": [
    "# Define chunking strategy\n",
    "smallSplitter = TokenTextSplitter(chunk_size=100, chunk_overlap=10)\n",
    "mediumSplitter = TokenTextSplitter(chunk_size=500, chunk_overlap=100)\n",
    "largeSplitter = TokenTextSplitter(chunk_size=256, chunk_overlap=52)"
   ]
  },
  {
   "cell_type": "code",
   "execution_count": 23,
   "id": "aabc49c5",
   "metadata": {},
   "outputs": [],
   "source": [
    "small_documents = smallSplitter.split_documents(small_dataset)\n",
    "medium_documents = mediumSplitter.split_documents(medium_dataset)\n",
    "large_doucments = largeSplitter.split_documents(large_dataset)"
   ]
  },
  {
   "cell_type": "code",
   "execution_count": 24,
   "id": "6171fe70",
   "metadata": {},
   "outputs": [
    {
     "name": "stdout",
     "output_type": "stream",
     "text": [
      "27\n",
      "99\n",
      "1477\n"
     ]
    }
   ],
   "source": [
    "print(len(small_documents))\n",
    "print(len(medium_documents))\n",
    "print(len(large_doucments))"
   ]
  },
  {
   "cell_type": "markdown",
   "id": "d93ca427",
   "metadata": {},
   "source": [
    "## Embed the Chunks\n",
    "Vectorize them"
   ]
  },
  {
   "cell_type": "code",
   "execution_count": 25,
   "id": "fe919e82",
   "metadata": {},
   "outputs": [],
   "source": [
    "# Embedding facilities\n",
    "from langchain import HuggingFaceHub\n",
    "from langchain_community.embeddings import HuggingFaceEmbeddings\n",
    "from langchain_community.embeddings import OllamaEmbeddings"
   ]
  },
  {
   "cell_type": "code",
   "execution_count": 26,
   "id": "74a585d2",
   "metadata": {},
   "outputs": [],
   "source": [
    "model_name = \"sentence-transformers/all-mpnet-base-v2\"\n",
    "model_kwargs = {'device': 'cpu'}\n",
    "encode_kwargs = {'normalize_embeddings': True}"
   ]
  },
  {
   "cell_type": "code",
   "execution_count": 27,
   "id": "56a9a07f",
   "metadata": {},
   "outputs": [],
   "source": [
    "embedder = HuggingFaceEmbeddings(\n",
    "    model_name=model_name,\n",
    "    model_kwargs=model_kwargs,\n",
    "    encode_kwargs=encode_kwargs\n",
    ")"
   ]
  },
  {
   "cell_type": "markdown",
   "id": "e9c09132",
   "metadata": {},
   "source": [
    "## Store in Weaviate Vector Database"
   ]
  },
  {
   "cell_type": "markdown",
   "id": "0fa78dcb",
   "metadata": {},
   "source": [
    "### Create Server and Client"
   ]
  },
  {
   "cell_type": "code",
   "execution_count": 28,
   "id": "69b9b689",
   "metadata": {},
   "outputs": [],
   "source": [
    "# from langchain_community.vectorstores import Weaviate\n",
    "import weaviate\n",
    "from langchain_weaviate.vectorstores import WeaviateVectorStore"
   ]
  },
  {
   "cell_type": "code",
   "execution_count": 29,
   "id": "e047c5b0-7ec6-4125-8612-a16b8b82ef14",
   "metadata": {},
   "outputs": [],
   "source": [
    "#Initiate weaviate Connection"
   ]
  },
  {
   "cell_type": "code",
   "execution_count": 30,
   "id": "ecccad69",
   "metadata": {},
   "outputs": [],
   "source": [
    "weaviate_url = \"http://127.0.0.1:8080\""
   ]
  },
  {
   "cell_type": "code",
   "execution_count": 31,
   "id": "b00ea12b",
   "metadata": {},
   "outputs": [],
   "source": [
    "# weaviate_client.close()\n",
    "weaviate_client = weaviate.connect_to_local()"
   ]
  },
  {
   "cell_type": "code",
   "execution_count": 32,
   "id": "2fcfafc3",
   "metadata": {},
   "outputs": [
    {
     "data": {
      "text/plain": [
       "True"
      ]
     },
     "execution_count": 32,
     "metadata": {},
     "output_type": "execute_result"
    }
   ],
   "source": [
    "# Check connection\n",
    "weaviate_client.is_ready()"
   ]
  },
  {
   "cell_type": "code",
   "execution_count": 33,
   "id": "ba06b18b",
   "metadata": {},
   "outputs": [
    {
     "data": {
      "text/plain": [
       "{'hostname': 'http://[::]:8080', 'modules': {}, 'version': '1.25.1'}"
      ]
     },
     "execution_count": 33,
     "metadata": {},
     "output_type": "execute_result"
    }
   ],
   "source": [
    "weaviate_client.get_meta()"
   ]
  },
  {
   "cell_type": "markdown",
   "id": "b4ce7e49",
   "metadata": {
    "tags": []
   },
   "source": [
    "### Create Databases"
   ]
  },
  {
   "cell_type": "code",
   "execution_count": 34,
   "id": "7004f5e9-dc48-48c6-924e-fbf7401c0ef4",
   "metadata": {},
   "outputs": [],
   "source": [
    "#Weaviate"
   ]
  },
  {
   "cell_type": "code",
   "execution_count": 35,
   "id": "45faba13",
   "metadata": {},
   "outputs": [],
   "source": [
    "small_w = WeaviateVectorStore.from_documents(small_documents, embedder, client=weaviate_client)"
   ]
  },
  {
   "cell_type": "code",
   "execution_count": 36,
   "id": "2f618557-db53-4cbf-b4ce-c8f26149865b",
   "metadata": {},
   "outputs": [],
   "source": [
    "medium_w = WeaviateVectorStore.from_documents(medium_documents, embedder, client=weaviate_client)"
   ]
  },
  {
   "cell_type": "code",
   "execution_count": 37,
   "id": "31617e0b-ab8c-47d8-aaac-86361c8d1c80",
   "metadata": {},
   "outputs": [],
   "source": [
    "large_w = WeaviateVectorStore.from_documents(large_doucments, embedder, client=weaviate_client)"
   ]
  },
  {
   "cell_type": "code",
   "execution_count": 38,
   "id": "c75a6718-490c-4ddb-b38a-2519921ee8a9",
   "metadata": {},
   "outputs": [],
   "source": [
    "#Chroma"
   ]
  },
  {
   "cell_type": "code",
   "execution_count": 45,
   "id": "d5789971-92a7-40bd-9670-ebefe60b6dcd",
   "metadata": {},
   "outputs": [],
   "source": [
    "import chromadb\n",
    "from langchain.vectorstores import Chroma\n",
    "\n",
    "smmall_client = chromadb.HttpClient(host='localhost', port=8000)\n",
    "medium_client = chromadb.HttpClient(host='localhost', port=8001)\n",
    "large_client = chromadb.HttpClient(host='localhost', port=8002)\n",
    "\n",
    "small_chroma = Chroma.from_documents(small_documents, embedder, client=smmall_client)\n",
    "medium_chroma= Chroma.from_documents(medium_documents, embedder, client=medium_client)\n",
    "large_chroma= Chroma.from_documents(large_doucments, embedder, client=large_client)"
   ]
  },
  {
   "cell_type": "code",
   "execution_count": null,
   "id": "0849e13e-9d5a-4235-9c5e-a4ba252d44a6",
   "metadata": {},
   "outputs": [],
   "source": []
  },
  {
   "cell_type": "markdown",
   "id": "de63672b",
   "metadata": {},
   "source": [
    "## Perform Search"
   ]
  },
  {
   "cell_type": "markdown",
   "id": "944695e6",
   "metadata": {},
   "source": [
    "### Simple Search"
   ]
  },
  {
   "cell_type": "code",
   "execution_count": 46,
   "id": "ec31d696",
   "metadata": {},
   "outputs": [],
   "source": [
    "query = \"How do i change the oil of my car?\""
   ]
  },
  {
   "cell_type": "code",
   "execution_count": 47,
   "id": "c1cf5dbf",
   "metadata": {},
   "outputs": [
    {
     "name": "stdout",
     "output_type": "stream",
     "text": [
      "----- Small ------\n",
      "\n",
      "Document 1:\n",
      " every 30,000 to 45,000 kilometres (19,000 to 28,000 miles) – or every twelve months, whichever come...\n",
      "\n",
      "Document 2:\n",
      " and full service: a major service is more comprehensive than a full service; although it covers all...\n",
      "\n",
      "Document 3:\n",
      ", in many states in the U.S., a car has to pass a safety inspection test every year or two years to ...\n",
      "\n",
      "Document 4:\n",
      " United Kingdom, few parts that are not inspected on the MOT test are inspected and advised upon a S...\n",
      "\n",
      "\n",
      "----- Medium ------\n",
      "\n",
      "\n",
      "Document 1:\n",
      "Crawford\u0001s Guide to Beginners Auto Maintenance & Repair  www.CrawfordsAutoService.com \n",
      "17 Engine Oil...\n",
      "\n",
      "Document 2:\n",
      "Crawford\u0001s Guide to Beginners Auto Maintenance & Repair  www.CrawfordsAutoService.com \n",
      "40 Wear Bar \n",
      "...\n",
      "\n",
      "Document 3:\n",
      "Crawford\u0001s Guide to Beginners Auto Maintenance & Repair  www.CrawfordsAutoService.com \n",
      "43 Chapter 5:...\n",
      "\n",
      "Document 4:\n",
      "Crawford\u0001s Guide to Beginners Auto Maintenance & Repair  www.CrawfordsAutoService.com \n",
      "15 Chapter 2:...\n",
      "\n",
      "\n",
      "----- Large ------\n",
      "\n",
      "\n",
      "Document 1:\n",
      "HOW TO CHANGE YOUR \n",
      "CAR’S OIL  \n",
      "Unless your car’s oil filter and/or oil drain plug is impossible to ...\n",
      "\n",
      "Document 2:\n",
      " \n",
      "2. Place a container under the oil drain plug.  \n",
      "You want this container to catch the oil, so make...\n",
      "\n",
      "Document 3:\n",
      "so the gook gets churned up and can flow out of the engine easily. \n",
      "You don’t want the engine so hot...\n",
      "\n",
      "Document 4:\n",
      "You have successfully learned how to ch ange your oil! As a final step, \n",
      "dispose of the old oil by t...\n"
     ]
    }
   ],
   "source": [
    "# weaviate\n",
    "docs = small_w.similarity_search(query)\n",
    "print(\"----- Small ------\")\n",
    "# Print the first 100 characters of each result\n",
    "for i, doc in enumerate(docs):\n",
    "    print(f\"\\nDocument {i+1}:\")\n",
    "    print(doc.page_content[:100] + \"...\")\n",
    "\n",
    "print(\"\")\n",
    "print(\"\")\n",
    "print(\"----- Medium ------\")\n",
    "print(\"\")\n",
    "docs = medium_w.similarity_search(query)\n",
    "\n",
    "# Print the first 100 characters of each result\n",
    "for i, doc in enumerate(docs):\n",
    "    print(f\"\\nDocument {i+1}:\")\n",
    "    print(doc.page_content[:100] + \"...\")\n",
    "    \n",
    "print(\"\")\n",
    "print(\"\")\n",
    "print(\"----- Large ------\")\n",
    "print(\"\")\n",
    "docs = large_w.similarity_search(query)\n",
    "\n",
    "# Print the first 100 characters of each result\n",
    "for i, doc in enumerate(docs):\n",
    "    print(f\"\\nDocument {i+1}:\")\n",
    "    print(doc.page_content[:100] + \"...\")\n"
   ]
  },
  {
   "cell_type": "code",
   "execution_count": 48,
   "id": "98cfd1ab-02e2-476e-8d74-4d8a60209db6",
   "metadata": {},
   "outputs": [
    {
     "name": "stdout",
     "output_type": "stream",
     "text": [
      "----- Small ------\n",
      "\n",
      "Document 1:\n",
      "A motor vehicle service or tune-up is a series of maintenance procedures carried out at a set time i...\n",
      "\n",
      "Document 2:\n",
      " every 30,000 to 45,000 kilometres (19,000 to 28,000 miles) – or every twelve months, whichever come...\n",
      "\n",
      "Document 3:\n",
      " than using maintenance to keep the engine running as it should.\n",
      "\n",
      "\n",
      "== Common tasks involved in maint...\n",
      "\n",
      "Document 4:\n",
      " and full service: a major service is more comprehensive than a full service; although it covers all...\n",
      "\n",
      "\n",
      "----- Medium ------\n",
      "\n",
      "\n",
      "Document 1:\n",
      "Crawford\u0001s Guide to Beginners Auto Maintenance & Repair  www.CrawfordsAutoService.com \n",
      "17 Engine Oil...\n",
      "\n",
      "Document 2:\n",
      "Crawford\u0001s Guide to Beginners Auto Maintenance & Repair  www.CrawfordsAutoService.com \n",
      "9 Oil Filter ...\n",
      "\n",
      "Document 3:\n",
      "Crawford\u0001s Guide to Beginners Auto Maintenance & Repair  www.CrawfordsAutoService.com \n",
      "45 Engine Oil...\n",
      "\n",
      "Document 4:\n",
      "Crawford\u0001s Guide to Beginners Auto Maintenance & Repair  www.CrawfordsAutoService.com \n",
      "20 Windshield...\n",
      "\n",
      "\n",
      "----- Large ------\n",
      "\n",
      "\n",
      "Document 1:\n",
      "HOW TO CHANGE YOUR \n",
      "CAR’S OIL  \n",
      "Unless your car’s oil filter and/or oil drain plug is impossible to ...\n",
      "\n",
      "Document 2:\n",
      "so the gook gets churned up and can flow out of the engine easily. \n",
      "You don’t want the engine so hot...\n",
      "\n",
      "Document 3:\n",
      " \n",
      "2. Place a container under the oil drain plug.  \n",
      "You want this container to catch the oil, so make...\n",
      "\n",
      "Document 4:\n",
      "Engine Oil and Filter\n",
      "Checking\n",
      "Check the engine oil a couple of minutes after shutting the engine\n",
      "of...\n"
     ]
    }
   ],
   "source": [
    "# Chroma\n",
    "docs = small_chroma.similarity_search(query)\n",
    "print(\"----- Small ------\")\n",
    "# Print the first 100 characters of each result\n",
    "for i, doc in enumerate(docs):\n",
    "    print(f\"\\nDocument {i+1}:\")\n",
    "    print(doc.page_content[:100] + \"...\")\n",
    "\n",
    "print(\"\")\n",
    "print(\"\")\n",
    "print(\"----- Medium ------\")\n",
    "print(\"\")\n",
    "docs = medium_chroma.similarity_search(query)\n",
    "\n",
    "# Print the first 100 characters of each result\n",
    "for i, doc in enumerate(docs):\n",
    "    print(f\"\\nDocument {i+1}:\")\n",
    "    print(doc.page_content[:100] + \"...\")\n",
    "    \n",
    "print(\"\")\n",
    "print(\"\")\n",
    "print(\"----- Large ------\")\n",
    "print(\"\")\n",
    "docs = large_chroma.similarity_search(query)\n",
    "\n",
    "# Print the first 100 characters of each result\n",
    "for i, doc in enumerate(docs):\n",
    "    print(f\"\\nDocument {i+1}:\")\n",
    "    print(doc.page_content[:100] + \"...\")\n"
   ]
  },
  {
   "cell_type": "markdown",
   "id": "363309c7",
   "metadata": {},
   "source": [
    "### MMR"
   ]
  },
  {
   "cell_type": "markdown",
   "id": "85b91dd7",
   "metadata": {},
   "source": [
    "__Maximal Marginal Relevance (MMR)__ is a method used to avoid redundancy while retrieving relevant items to a query. <br>\n",
    "Instead of merely retrieving the most relevant items, which can often be very similar to each other, MMR ensures a balance between relevancy and diversity."
   ]
  },
  {
   "cell_type": "code",
   "execution_count": 53,
   "id": "c41c6fd6",
   "metadata": {},
   "outputs": [],
   "source": [
    "# Retrieve more documents with higher diversity\n",
    "# Useful if your dataset has many similar documents\n",
    "retriever_w = large_w.as_retriever(\n",
    "    search_type=\"mmr\",\n",
    "    search_kwargs={'k': 6, 'lambda_mult': 0.25}\n",
    ")\n",
    "\n",
    "retriever_chroma = large_chroma.as_retriever(\n",
    ")"
   ]
  },
  {
   "cell_type": "code",
   "execution_count": 50,
   "id": "e131ff97",
   "metadata": {},
   "outputs": [],
   "source": [
    "query = \"How do i change the oil of my car\""
   ]
  },
  {
   "cell_type": "code",
   "execution_count": 51,
   "id": "9515f18d",
   "metadata": {},
   "outputs": [
    {
     "data": {
      "text/plain": [
       "Document(page_content='HOW TO CHANGE YOUR \\nCAR’S OIL  \\nUnless your car’s oil filter and/or oil drain plug is impossible to reach, \\nyou can save money by changing your oil and oil filter yourself (your \\ncar’s manual should tell you how much oil to get and  how often to \\nchange your oil ). You don’t need to be a mechanic to learn  how to \\nchange your oil  – it simply takes being able to identify certain parts of \\nthe car and acquiring the right equipment to do the job. From a top -\\nlevel view, the oil change process involves a few procedures \\nincluding: draining the existing oil out of your engine, replacing certain \\nequipment (i.e. – oil filter), adding oil, ensuring the re are no leaks, and \\nquality testing.  \\nTo start your DIY oil change, warm up your engine for 2 or 3 minutes \\nso the gook gets churned up and can flow out of the engine easily. \\nYou don’t want the engine so hot that you burn yourself. When it’s \\nslightly warm t o the touch, shut off the', metadata={'page': 0.0, 'source': 'https://www.missskirtich.com/uploads/2/3/3/7/23374820/how_to_change_your_car_oil.pdf'})"
      ]
     },
     "execution_count": 51,
     "metadata": {},
     "output_type": "execute_result"
    }
   ],
   "source": [
    "response = retriever_w.invoke(query)\n",
    "response[0]"
   ]
  },
  {
   "cell_type": "code",
   "execution_count": 54,
   "id": "aa034a76-9ec6-4275-ad69-c25e9faf6d04",
   "metadata": {},
   "outputs": [
    {
     "data": {
      "text/plain": [
       "Document(page_content='HOW TO CHANGE YOUR \\nCAR’S OIL  \\nUnless your car’s oil filter and/or oil drain plug is impossible to reach, \\nyou can save money by changing your oil and oil filter yourself (your \\ncar’s manual should tell you how much oil to get and  how often to \\nchange your oil ). You don’t need to be a mechanic to learn  how to \\nchange your oil  – it simply takes being able to identify certain parts of \\nthe car and acquiring the right equipment to do the job. From a top -\\nlevel view, the oil change process involves a few procedures \\nincluding: draining the existing oil out of your engine, replacing certain \\nequipment (i.e. – oil filter), adding oil, ensuring the re are no leaks, and \\nquality testing.  \\nTo start your DIY oil change, warm up your engine for 2 or 3 minutes \\nso the gook gets churned up and can flow out of the engine easily. \\nYou don’t want the engine so hot that you burn yourself. When it’s \\nslightly warm t o the touch, shut off the', metadata={'page': 0, 'source': 'https://www.missskirtich.com/uploads/2/3/3/7/23374820/how_to_change_your_car_oil.pdf'})"
      ]
     },
     "execution_count": 54,
     "metadata": {},
     "output_type": "execute_result"
    }
   ],
   "source": [
    "response = retriever_chroma.invoke(query)\n",
    "response[0]"
   ]
  },
  {
   "cell_type": "markdown",
   "id": "afefd4bb-b500-49c9-9c10-547848c57705",
   "metadata": {},
   "source": [
    "\n",
    "# Conversational Chain\n"
   ]
  },
  {
   "cell_type": "code",
   "execution_count": null,
   "id": "198d421f-c77b-4af9-8da8-ee287751212a",
   "metadata": {},
   "outputs": [],
   "source": [
    "# With vectorDB"
   ]
  },
  {
   "cell_type": "code",
   "execution_count": 152,
   "id": "61292e50-ce27-4b96-a664-8c14e7ee4df9",
   "metadata": {},
   "outputs": [],
   "source": [
    "llm = ChatOllama(model=\"Mistral\", temperature=0)"
   ]
  },
  {
   "cell_type": "code",
   "execution_count": 153,
   "id": "435851d1-0e80-4de3-b312-e20fa7796c43",
   "metadata": {},
   "outputs": [],
   "source": [
    "qa_chain = RetrievalQA.from_chain_type(\n",
    "    llm=llm, chain_type=\"stuff\", retriever=retriever_chroma\n",
    ")"
   ]
  },
  {
   "cell_type": "code",
   "execution_count": 154,
   "id": "d76005be-75a7-4f67-b523-ee3185c72165",
   "metadata": {},
   "outputs": [
    {
     "name": "stdout",
     "output_type": "stream",
     "text": [
      "{'query': 'How do i change the oil of my car?', 'result': ' To change the oil of your car, follow these steps:\\n\\n1. Warm up your engine for 2 or 3 minutes to make the oil easier to drain.\\n2. Shut off the engine and locate the drain plug under the oil pan at the bottom of the engine.\\n3. Place a container under the drain plug that is big enough to catch the oil.\\n4. Unscrew the oil drain plug, being careful not to burn yourself as the oil will be hot. The oil will drain out into the container.\\n5. Remove the cap from the oil filler hole at the top of the engine and unscrew the oil filter using a wrench if necessary. Empty the oil from the filter into a drain pan and set it aside to take to a recycling center with your old oil.\\n6. Check the engine oil level by removing the dipstick and wiping it clean, then re-inserting it all the way down and pulling it out to read the level. If necessary, add oil until it is even with the upper mark on the dipstick.\\n7. Replace the engine oil fill cap and twist clockwise until it stops.\\n8. Check the API Service label on the oil container to ensure you are using a premium-grade detergent oil with the correct SAE viscosity and Service Classification for your car.'}\n"
     ]
    }
   ],
   "source": [
    "response = qa_chain.invoke(\n",
    "    \"How do i change the oil of my car?\")\n",
    "print(response)"
   ]
  },
  {
   "cell_type": "code",
   "execution_count": 155,
   "id": "661ba0ec-494d-4f86-80d7-9d31ad26e5ff",
   "metadata": {},
   "outputs": [],
   "source": [
    "#Without vectorDB"
   ]
  },
  {
   "cell_type": "code",
   "execution_count": 156,
   "id": "e55312b3-a5f5-4cdc-992a-d2b3126dfb5a",
   "metadata": {},
   "outputs": [],
   "source": [
    "llm2 = ChatOllama(model=\"Mistral\", temperature=0)"
   ]
  },
  {
   "cell_type": "code",
   "execution_count": 161,
   "id": "568c5d37-2a12-4489-b759-16a13e122b99",
   "metadata": {},
   "outputs": [
    {
     "data": {
      "text/plain": [
       "AIMessage(content=\" Changing the oil in your car is an essential maintenance task that can help keep your engine running smoothly and efficiently. Here are the general steps to follow when changing the oil in your car:\\n\\n1. Gather Your Tools and Supplies: You will need a few tools and supplies, including an oil filter wrench, a drain pan, a funnel, a new oil filter, new oil, a socket wrench or adjustable wrench, and possibly a torque wrench (depending on your vehicle).\\n\\n2. Warm Up the Engine: Start the engine and let it run for about 5-10 minutes to help the oil flow freely. Be sure to park in a safe location with good drainage and away from any open flames or sparks.\\n\\n3. Drain the Old Oil: Locate the oil drain plug, which is usually found at the bottom of the engine near the front. Place a drain pan underneath the vehicle to catch the old oil. Using a socket wrench or adjustable wrench, carefully remove the drain plug and allow the oil to drain out completely.\\n\\n4. Remove the Old Oil Filter: Once the oil has drained, locate the oil filter, which is typically near the engine but may be in a different location depending on your vehicle. Use an oil filter wrench or pliers to loosen and remove the old oil filter. Be sure to catch any remaining oil as it drains out.\\n\\n5. Install the New Oil Filter: Apply a thin coat of new oil to the gasket surface of the new oil filter. Screw the new oil filter in place by hand, then tighten it according to the manufacturer's instructions.\\n\\n6. Add New Oil: Using a funnel, add the recommended amount of new oil to your engine. Be sure to check your vehicle's owner manual for the correct type and amount of oil needed.\\n\\n7. Check for Leaks: Once you have added the new oil, start the engine and let it run for a few minutes to check for any leaks. If you notice any leaks, tighten any loose parts or replace any gaskets as necessary.\\n\\n8. Dispose of Used Oil Properly: Used motor oil should never be poured down the drain or thrown in the trash. Take your used oil to a recycling center or an auto parts store that accepts used oil for proper disposal.\", response_metadata={'model': 'Mistral', 'created_at': '2024-05-25T11:09:33.032321Z', 'message': {'role': 'assistant', 'content': ''}, 'done_reason': 'stop', 'done': True, 'total_duration': 14548180708, 'load_duration': 1919500, 'prompt_eval_count': 14, 'prompt_eval_duration': 338641000, 'eval_count': 505, 'eval_duration': 14206084000}, id='run-763ebecb-3bbb-4a24-a5dc-46bf5879c198-0')"
      ]
     },
     "execution_count": 161,
     "metadata": {},
     "output_type": "execute_result"
    }
   ],
   "source": [
    "llm2.invoke(\"How do i change the oil of my car?\")"
   ]
  },
  {
   "cell_type": "markdown",
   "id": "f71a618b-cef3-457f-914f-8efe56174623",
   "metadata": {},
   "source": [
    "## Conclusion\n",
    "Seems like adding our own vectorized text did not give us a better answer..."
   ]
  },
  {
   "cell_type": "markdown",
   "id": "28c2e77c",
   "metadata": {
    "tags": []
   },
   "source": [
    "## Building Knowledge Graph"
   ]
  },
  {
   "cell_type": "markdown",
   "id": "78a726a4",
   "metadata": {},
   "source": [
    "We will be using Diffbot - a set of ML APIs to transform text into knowledge graph. We get access to it through LangChain platfirm. <br>\n",
    "__DiffbotGraphTransformer__ extracts entities and relationships from unstructured text documents and outputs a structured data object __GraphDocument__, which can be used to populate a graph database. "
   ]
  },
  {
   "cell_type": "code",
   "execution_count": 106,
   "id": "83fb0621-f3c4-4284-9f3f-93c8102adfb8",
   "metadata": {},
   "outputs": [],
   "source": [
    "raw_documents = []\n",
    "rd = WikipediaLoader(query=\"List of automobile sales by model\").load()\n",
    "raw_documents.extend(rd)\n"
   ]
  },
  {
   "cell_type": "code",
   "execution_count": 57,
   "id": "2896ba09",
   "metadata": {},
   "outputs": [],
   "source": [
    "from langchain_experimental.graph_transformers.diffbot import DiffbotGraphTransformer"
   ]
  },
  {
   "cell_type": "code",
   "execution_count": 58,
   "id": "ab2c4e36",
   "metadata": {},
   "outputs": [],
   "source": [
    "import getpass"
   ]
  },
  {
   "cell_type": "code",
   "execution_count": 101,
   "id": "cbcacd12",
   "metadata": {},
   "outputs": [
    {
     "name": "stdin",
     "output_type": "stream",
     "text": [
      "Enter API Token:  ········\n"
     ]
    }
   ],
   "source": [
    "diffbot_api_token = getpass.getpass(\"Enter API Token: \")"
   ]
  },
  {
   "cell_type": "code",
   "execution_count": 102,
   "id": "9e89539f",
   "metadata": {},
   "outputs": [],
   "source": [
    "diffbot_nlp = DiffbotGraphTransformer(diffbot_api_token)"
   ]
  },
  {
   "cell_type": "code",
   "execution_count": 108,
   "id": "b707936d",
   "metadata": {},
   "outputs": [],
   "source": [
    "graph_document_car_makes_models = diffbot_nlp.convert_to_graph_documents(raw_documents)"
   ]
  },
  {
   "cell_type": "markdown",
   "id": "3a995cf3",
   "metadata": {},
   "source": [
    "### Connect to Neo4j"
   ]
  },
  {
   "cell_type": "code",
   "execution_count": 109,
   "id": "d30e8b99",
   "metadata": {},
   "outputs": [],
   "source": [
    "from langchain_community.graphs import Neo4jGraph"
   ]
  },
  {
   "cell_type": "code",
   "execution_count": 110,
   "id": "789b9896",
   "metadata": {},
   "outputs": [],
   "source": [
    "# DB URI and authentication\n",
    "url = \"bolt://localhost:7687\"\n",
    "username = \"neo4j\"\n",
    "password = \"mysecretpassword\""
   ]
  },
  {
   "cell_type": "code",
   "execution_count": 111,
   "id": "425f14b6",
   "metadata": {},
   "outputs": [
    {
     "name": "stderr",
     "output_type": "stream",
     "text": [
      "/Users/vincentbuchholz/opt/anaconda3/lib/python3.9/site-packages/neo4j/_sync/driver.py:507: ResourceWarning: Unclosed <neo4j._sync.driver.BoltDriver object at 0x3b06db190>.\n",
      "Enable tracemalloc to get the object allocation traceback.\n",
      "  unclosed_resource_warn(self)\n",
      "ResourceWarning: Enable tracemalloc to get the object allocation traceback\n"
     ]
    }
   ],
   "source": [
    "graph = Neo4jGraph(url=url, username=username, password=password)"
   ]
  },
  {
   "cell_type": "markdown",
   "id": "787b9803",
   "metadata": {},
   "source": [
    "The __GraphDocuments__ can be loaded into a knowledge graph using the __add_graph_documents__ method."
   ]
  },
  {
   "cell_type": "code",
   "execution_count": 116,
   "id": "a74648b8",
   "metadata": {},
   "outputs": [],
   "source": [
    "graph.add_graph_documents(graph_documents)"
   ]
  },
  {
   "cell_type": "code",
   "execution_count": null,
   "id": "2cd034e1-c326-4dce-a8bf-ea0d84c60fb6",
   "metadata": {},
   "outputs": [
    {
     "data": {
      "text/plain": [
       "'Node properties are the following:\\nOrganization {name: STRING, id: STRING, foundingDate: STRING, productType: STRING},Person {id: STRING, name: STRING, positionHeld: STRING, dateOfBirth: STRING, age: STRING, dateOfDeath: STRING, causeOfDeath: STRING, academicDegree: STRING},Location {name: STRING, id: STRING},Skill {name: STRING, id: STRING},Disease {id: STRING, name: STRING},Disaster {id: STRING, name: STRING},Award {id: STRING, name: STRING}\\nRelationship properties are the following:\\nEMPLOYEE_OR_MEMBER_OF {evidence: STRING, isCurrent: STRING, startTime: STRING, positionHeld: STRING, isNotCurrent: STRING, endTime: STRING},FOUNDED_BY {evidence: STRING},PERSON_LOCATION {evidence: STRING, isNotCurrent: STRING, endTime: STRING, startTime: STRING, isCurrent: STRING},CHIEF_EXECUTIVE_OFFICER {isNotCurrent: STRING, startTime: STRING, evidence: STRING, isCurrent: STRING},INDUSTRY {evidence: STRING},INTERESTED_IN {evidence: STRING},PARENT_ORGANIZATION {isCurrent: STRING, evidence: STRING, isNotCurrent: STRING},SUBSIDIARY {isCurrent: STRING, evidence: STRING, isNotCurrent: STRING},BRANDS {evidence: STRING},STOCK_EXCHANGE {startTime: STRING, evidence: STRING},ORGANIZATION_LOCATIONS {evidence: STRING, isCurrent: STRING, startTime: STRING},ACQUIRED_BY {evidence: STRING},COMPETITORS {evidence: STRING},PARTNERSHIP {evidence: STRING},WORK_RELATIONSHIP {evidence: STRING},NATIONALITY {evidence: STRING},SOCIAL_RELATIONSHIP {evidence: STRING, isNotCurrent: STRING, startTime: STRING, isCurrent: STRING},FAMILY_MEMBER {evidence: STRING, isNotCurrent: STRING, startTime: STRING, isCurrent: STRING},POLITICAL_AFFILIATION {isNotCurrent: STRING, startTime: STRING, evidence: STRING},ROMANTIC_RELATIONSHIP {isNotCurrent: STRING, evidence: STRING, startTime: STRING, isCurrent: STRING},SPOUSE {isNotCurrent: STRING, evidence: STRING, startTime: STRING, isCurrent: STRING},PLACE_OF_BIRTH {evidence: STRING},HAS_PARENT {evidence: STRING},HAS_CHILD {evidence: STRING},SIBLING {evidence: STRING},PLACE_OF_DEATH {evidence: STRING},GEOGRAPHIC_HERITAGE {evidence: STRING},EDUCATED_AT {isNotCurrent: STRING, endTime: STRING, evidence: STRING, startTime: STRING},FIELD_OF_WORK {evidence: STRING},AUTHOR_OF {evidence: STRING, pointInTime: STRING},AWARDS {evidence: STRING},CAUSE_OF_DEATH {evidence: STRING},CONTRIBUTED_TO {evidence: STRING}\\nThe relationships are the following:\\n(:Organization)-[:FOUNDED_BY]->(:Person),(:Organization)-[:COMPETITORS]->(:Organization),(:Organization)-[:INDUSTRY]->(:Skill),(:Organization)-[:CHIEF_EXECUTIVE_OFFICER]->(:Person),(:Organization)-[:PARENT_ORGANIZATION]->(:Organization),(:Organization)-[:BRANDS]->(:Organization),(:Organization)-[:STOCK_EXCHANGE]->(:Organization),(:Organization)-[:SUBSIDIARY]->(:Organization),(:Organization)-[:ORGANIZATION_LOCATIONS]->(:Location),(:Organization)-[:ORGANIZATION_LOCATIONS]->(:Organization),(:Organization)-[:ACQUIRED_BY]->(:Organization),(:Organization)-[:PARTNERSHIP]->(:Organization),(:Person)-[:EMPLOYEE_OR_MEMBER_OF]->(:Organization),(:Person)-[:PERSON_LOCATION]->(:Location),(:Person)-[:PERSON_LOCATION]->(:Organization),(:Person)-[:INTERESTED_IN]->(:Skill),(:Person)-[:WORK_RELATIONSHIP]->(:Person),(:Person)-[:NATIONALITY]->(:Location),(:Person)-[:SOCIAL_RELATIONSHIP]->(:Person),(:Person)-[:FAMILY_MEMBER]->(:Person),(:Person)-[:CAUSE_OF_DEATH]->(:Disaster),(:Person)-[:CAUSE_OF_DEATH]->(:Disease),(:Person)-[:POLITICAL_AFFILIATION]->(:Organization),(:Person)-[:ROMANTIC_RELATIONSHIP]->(:Person),(:Person)-[:SPOUSE]->(:Person),(:Person)-[:PLACE_OF_BIRTH]->(:Organization),(:Person)-[:PLACE_OF_BIRTH]->(:Location),(:Person)-[:HAS_PARENT]->(:Person),(:Person)-[:HAS_CHILD]->(:Person),(:Person)-[:GEOGRAPHIC_HERITAGE]->(:Location),(:Person)-[:EDUCATED_AT]->(:Organization),(:Person)-[:FIELD_OF_WORK]->(:Skill),(:Person)-[:AWARDS]->(:Award),(:Person)-[:AWARDS]->(:Skill),(:Person)-[:SIBLING]->(:Person),(:Person)-[:PLACE_OF_DEATH]->(:Organization),(:Person)-[:PLACE_OF_DEATH]->(:Location),(:Person)-[:AUTHOR_OF]->(:Skill),(:Person)-[:CONTRIBUTED_TO]->(:Organization)'"
      ]
     },
     "execution_count": 158,
     "metadata": {},
     "output_type": "execute_result"
    }
   ],
   "source": [
    "graph.schema"
   ]
  },
  {
   "cell_type": "markdown",
   "id": "c6434bff-08ba-4071-a5df-6651e6e7820f",
   "metadata": {},
   "source": [
    "## Conclusion"
   ]
  },
  {
   "cell_type": "markdown",
   "id": "9d905382-f7bd-48a2-b207-f08c068aafbf",
   "metadata": {},
   "source": [
    "We found that between chroma and Weaviate, there was not much difference in performance, and the answers were almost the same, therefore we cannot recommend one over the other.\n",
    "\n",
    "Another interesting thing is that the mistral model did not get any any better by adding our own data as the answer to the same question gave us a better answer."
   ]
  },
  {
   "cell_type": "code",
   "execution_count": null,
   "id": "b2827a28-7ffe-4ac4-babd-c9dccb6acc34",
   "metadata": {},
   "outputs": [],
   "source": []
  }
 ],
 "metadata": {
  "kernelspec": {
   "display_name": "Python 3 (ipykernel)",
   "language": "python",
   "name": "python3"
  },
  "language_info": {
   "codemirror_mode": {
    "name": "ipython",
    "version": 3
   },
   "file_extension": ".py",
   "mimetype": "text/x-python",
   "name": "python",
   "nbconvert_exporter": "python",
   "pygments_lexer": "ipython3",
   "version": "3.9.13"
  }
 },
 "nbformat": 4,
 "nbformat_minor": 5
}
